{
 "cells": [
  {
   "cell_type": "markdown",
   "id": "63e5a60b",
   "metadata": {},
   "source": [
    "# Heart Disease Research Part II"
   ]
  },
  {
   "cell_type": "markdown",
   "id": "479f3fc6",
   "metadata": {},
   "source": [
    "In this project, you’ll investigate some data from a sample patients who were evaluated for heart disease at the Cleveland Clinic Foundation. The data was downloaded from the UCI Machine Learning Repository (https://archive.ics.uci.edu/ml/datasets/Heart+Disease) and then cleaned for analysis. The principal investigators responsible for data collection were:\n",
    "\n",
    "1.    Hungarian Institute of Cardiology. Budapest: Andras Janosi, M.D.\n",
    "2.    University Hospital, Zurich, Switzerland: William Steinbrunn, M.D.\n",
    "3.    University Hospital, Basel, Switzerland: Matthias Pfisterer, M.D.\n",
    "4.    V.A. Medical Center, Long Beach and Cleveland Clinic Foundation: Robert Detrano, M.D., Ph.D.\n"
   ]
  },
  {
   "cell_type": "code",
   "execution_count": 1,
   "id": "4bc610ea",
   "metadata": {},
   "outputs": [],
   "source": [
    "import numpy as np\n",
    "import pandas as pd\n",
    "import matplotlib.pyplot as plt\n",
    "import seaborn as sns\n",
    "from scipy.stats import binom_test\n",
    "from scipy.stats import ttest_1samp\n",
    "from scipy.stats import ttest_ind\n",
    "from scipy.stats import f_oneway\n",
    "from statsmodels.stats.multicomp import pairwise_tukeyhsd\n",
    "from scipy.stats import chi2_contingency"
   ]
  },
  {
   "cell_type": "markdown",
   "id": "7dfbe1ac",
   "metadata": {},
   "source": [
    "## Inspect the data\n",
    "1. The data has been saved as a dataframe named heart in script.py. It contains the following variables:\n",
    "\n",
    "    -    `age`: age in years\n",
    "    -    `sex`: sex assigned at birth; `'male'` or `'female'`\n",
    "    -    `trestbps`: resting blood pressure in mm Hg\n",
    "    -    `chol`: serum cholesterol in mg/dl\n",
    "    -    `cp`: chest pain type (`'typical angina'`, `'atypical angina'`, `'non-anginal pain'`, or `'asymptomatic'`)\n",
    "    -    `exang`: whether the patient experiences exercise-induced angina (`1`: yes; `0`: no)\n",
    "    -    `fbs`: whether the patient’s fasting blood sugar is >120 mg/dl (`1`: yes; `0`: no)\n",
    "    -    `thalach`: maximum heart rate achieved in exercise test\n",
    "    -    `heart_disease`: whether the patient is found to have heart disease (`'presence'`: diagnosed with heart disease; `'absence'`: no heart disease)\n",
    "\n",
    "   Inspect the first few rows of data using the `.head()` method.\n"
   ]
  },
  {
   "cell_type": "code",
   "execution_count": 2,
   "id": "aacbfa7a",
   "metadata": {},
   "outputs": [
    {
     "data": {
      "text/html": [
       "<div>\n",
       "<style scoped>\n",
       "    .dataframe tbody tr th:only-of-type {\n",
       "        vertical-align: middle;\n",
       "    }\n",
       "\n",
       "    .dataframe tbody tr th {\n",
       "        vertical-align: top;\n",
       "    }\n",
       "\n",
       "    .dataframe thead th {\n",
       "        text-align: right;\n",
       "    }\n",
       "</style>\n",
       "<table border=\"1\" class=\"dataframe\">\n",
       "  <thead>\n",
       "    <tr style=\"text-align: right;\">\n",
       "      <th></th>\n",
       "      <th>age</th>\n",
       "      <th>sex</th>\n",
       "      <th>trestbps</th>\n",
       "      <th>chol</th>\n",
       "      <th>cp</th>\n",
       "      <th>exang</th>\n",
       "      <th>fbs</th>\n",
       "      <th>thalach</th>\n",
       "      <th>heart_disease</th>\n",
       "    </tr>\n",
       "  </thead>\n",
       "  <tbody>\n",
       "    <tr>\n",
       "      <th>0</th>\n",
       "      <td>63.0</td>\n",
       "      <td>male</td>\n",
       "      <td>145.0</td>\n",
       "      <td>233.0</td>\n",
       "      <td>typical angina</td>\n",
       "      <td>0.0</td>\n",
       "      <td>1.0</td>\n",
       "      <td>150.0</td>\n",
       "      <td>absence</td>\n",
       "    </tr>\n",
       "    <tr>\n",
       "      <th>1</th>\n",
       "      <td>67.0</td>\n",
       "      <td>male</td>\n",
       "      <td>160.0</td>\n",
       "      <td>286.0</td>\n",
       "      <td>asymptomatic</td>\n",
       "      <td>1.0</td>\n",
       "      <td>0.0</td>\n",
       "      <td>108.0</td>\n",
       "      <td>presence</td>\n",
       "    </tr>\n",
       "    <tr>\n",
       "      <th>2</th>\n",
       "      <td>67.0</td>\n",
       "      <td>male</td>\n",
       "      <td>120.0</td>\n",
       "      <td>229.0</td>\n",
       "      <td>asymptomatic</td>\n",
       "      <td>1.0</td>\n",
       "      <td>0.0</td>\n",
       "      <td>129.0</td>\n",
       "      <td>presence</td>\n",
       "    </tr>\n",
       "    <tr>\n",
       "      <th>3</th>\n",
       "      <td>37.0</td>\n",
       "      <td>male</td>\n",
       "      <td>130.0</td>\n",
       "      <td>250.0</td>\n",
       "      <td>non-anginal pain</td>\n",
       "      <td>0.0</td>\n",
       "      <td>0.0</td>\n",
       "      <td>187.0</td>\n",
       "      <td>absence</td>\n",
       "    </tr>\n",
       "    <tr>\n",
       "      <th>4</th>\n",
       "      <td>41.0</td>\n",
       "      <td>female</td>\n",
       "      <td>130.0</td>\n",
       "      <td>204.0</td>\n",
       "      <td>atypical angina</td>\n",
       "      <td>0.0</td>\n",
       "      <td>0.0</td>\n",
       "      <td>172.0</td>\n",
       "      <td>absence</td>\n",
       "    </tr>\n",
       "  </tbody>\n",
       "</table>\n",
       "</div>"
      ],
      "text/plain": [
       "    age     sex  trestbps   chol                cp  exang  fbs  thalach  \\\n",
       "0  63.0    male     145.0  233.0    typical angina    0.0  1.0    150.0   \n",
       "1  67.0    male     160.0  286.0      asymptomatic    1.0  0.0    108.0   \n",
       "2  67.0    male     120.0  229.0      asymptomatic    1.0  0.0    129.0   \n",
       "3  37.0    male     130.0  250.0  non-anginal pain    0.0  0.0    187.0   \n",
       "4  41.0  female     130.0  204.0   atypical angina    0.0  0.0    172.0   \n",
       "\n",
       "  heart_disease  \n",
       "0       absence  \n",
       "1      presence  \n",
       "2      presence  \n",
       "3       absence  \n",
       "4       absence  "
      ]
     },
     "execution_count": 2,
     "metadata": {},
     "output_type": "execute_result"
    }
   ],
   "source": [
    "heart = pd.read_csv('heart_disease.csv')\n",
    "heart.head()"
   ]
  },
  {
   "cell_type": "markdown",
   "id": "14058605",
   "metadata": {},
   "source": [
    "## Predictors of Heart Disease\n",
    "2. Each of the patients in this dataset underwent an exercise test, during which their heart rate was monitored. For each patient, `thalach` gives us the highest heart rate that the patient achieved during this test.\n",
    "\n",
    "   Is `thalach` associated with whether or not a patient will ultimately be diagnosed with heart disease? Use `sns.boxplot()` to plot side by side box plots of `thalach` for patients who were and were not diagnosed with heart disease (indicated by the `heart_disease` variable). Do you think there is a relationship between these variables?"
   ]
  },
  {
   "cell_type": "code",
   "execution_count": 3,
   "id": "988c7ecd",
   "metadata": {
    "scrolled": true
   },
   "outputs": [
    {
     "data": {
      "image/png": "[encoded data removed]",
      "text/plain": [
       "<Figure size 432x288 with 1 Axes>"
      ]
     },
     "metadata": {
      "needs_background": "light"
     },
     "output_type": "display_data"
    }
   ],
   "source": [
    "sns.boxplot(data=heart, x='heart_disease', y='thalach')\n",
    "plt.show()"
   ]
  },
  {
   "cell_type": "markdown",
   "id": "9d188b58",
   "metadata": {},
   "source": [
    "*Oh yes.*"
   ]
  },
  {
   "cell_type": "markdown",
   "id": "d603df1f",
   "metadata": {},
   "source": [
    "3. In order to investigate this question further, save the values for thalach among patients who were diagnosed with heart disease as a variable named `thalach_hd`. Then save the values of thalach among patients who were not diagnosed with heart disease as `thalach_no_hd`."
   ]
  },
  {
   "cell_type": "code",
   "execution_count": 4,
   "id": "6a6da078",
   "metadata": {},
   "outputs": [],
   "source": [
    "thalach_hd = heart.thalach[heart.heart_disease == 'presence']\n",
    "thalach_no_hd = heart.thalach[heart.heart_disease == 'absence']"
   ]
  },
  {
   "cell_type": "markdown",
   "id": "cc73036d",
   "metadata": {},
   "source": [
    "4. Calculate and print the difference in mean `thalach` for patients diagnosed with heart disease compared to patients without heart disease. Then do the same for the median difference."
   ]
  },
  {
   "cell_type": "code",
   "execution_count": 5,
   "id": "845a0c76",
   "metadata": {},
   "outputs": [
    {
     "name": "stdout",
     "output_type": "stream",
     "text": [
      "The difference between mean max heart rate with and without heart disease present is: -19.12\n",
      "\n",
      "The difference between median max heart rate with and without heart disease present is: -19.0\n",
      "\n"
     ]
    }
   ],
   "source": [
    "mean_diff = round(np.mean(thalach_hd) - np.mean(thalach_no_hd),2)\n",
    "print('The difference between mean max heart rate with and without heart disease present is: ' + str(mean_diff) + '\\n')\n",
    "\n",
    "med_diff = round(np.median(thalach_hd) - np.median(thalach_no_hd),2)\n",
    "print('The difference between median max heart rate with and without heart disease present is: ' + str(med_diff) + '\\n')"
   ]
  },
  {
   "cell_type": "markdown",
   "id": "3609a154",
   "metadata": {},
   "source": [
    "5. We’d like to find out if the average `thalach` of a heart disease patient is significantly different from the average thalach for a person without heart disease.\n",
    "\n",
    "   Import the statistical test from scipy.stats that we would use to test the following null and alternative hypotheses:\n",
    "\n",
    "    -    Null: The average `thalach` for a person with heart disease is equal to the average `thalach` for a person without heart disease.\n",
    "    -    Alternative: The average `thalach` for a person with heart disease is NOT equal to the average `thalach` for a person without heart disease.\n",
    "\n",
    "*Two-sample t-test? Yes, imported `ttest_ind()`.*"
   ]
  },
  {
   "cell_type": "markdown",
   "id": "fe800900",
   "metadata": {},
   "source": [
    "6. Run the hypothesis test from task 5 and print out the p-value. Using a significance threshold of 0.05, is there a significant difference in average `thalach` for people with heart disease compared to people with no heart disease?"
   ]
  },
  {
   "cell_type": "code",
   "execution_count": 20,
   "id": "048a5aa0",
   "metadata": {
    "scrolled": true
   },
   "outputs": [
    {
     "name": "stdout",
     "output_type": "stream",
     "text": [
      "3.456964908430172e-14\n"
     ]
    }
   ],
   "source": [
    "tstat, pval = ttest_ind(thalach_hd, thalach_no_hd)\n",
    "print(pval)"
   ]
  },
  {
   "cell_type": "markdown",
   "id": "07c4c14f",
   "metadata": {},
   "source": [
    "*Yes! 0.0000000000000346 is significant!*"
   ]
  },
  {
   "cell_type": "markdown",
   "id": "5b261957",
   "metadata": {},
   "source": [
    "7. Using the same process, investigate at least one other quantitative variable. Options include `age`, `trestbps` (resting blood pressure), and `chol` (cholesterol). Are any of these variables also significantly associated with heart disease?\n",
    "\n",
    "   Note: before every new plot that you make, be sure to use `plt.clf()` to clear the previous plot first, so that plots don’t get layered on top of each other. For example:"
   ]
  },
  {
   "cell_type": "code",
   "execution_count": 6,
   "id": "a8428b0a",
   "metadata": {},
   "outputs": [
    {
     "data": {
      "image/png": "[encoded data removed]",
      "text/plain": [
       "<Figure size 432x288 with 1 Axes>"
      ]
     },
     "metadata": {
      "needs_background": "light"
     },
     "output_type": "display_data"
    },
    {
     "data": {
      "image/png": "[encoded data removed]",
      "text/plain": [
       "<Figure size 432x288 with 1 Axes>"
      ]
     },
     "metadata": {
      "needs_background": "light"
     },
     "output_type": "display_data"
    }
   ],
   "source": [
    "# first box plot:\n",
    "sns.boxplot(x=heart.heart_disease, y=heart.thalach)\n",
    "plt.show()\n",
    " \n",
    "# second box plot:\n",
    "plt.clf()\n",
    "sns.boxplot(x=heart.heart_disease, y=heart.age)\n",
    "plt.show()"
   ]
  },
  {
   "cell_type": "code",
   "execution_count": 7,
   "id": "9c2d49c7",
   "metadata": {},
   "outputs": [
    {
     "data": {
      "image/png": "[encoded data removed]",
      "text/plain": [
       "<Figure size 432x288 with 1 Axes>"
      ]
     },
     "metadata": {
      "needs_background": "light"
     },
     "output_type": "display_data"
    },
    {
     "data": {
      "image/png": "[encoded data removed]",
      "text/plain": [
       "<Figure size 432x288 with 1 Axes>"
      ]
     },
     "metadata": {
      "needs_background": "light"
     },
     "output_type": "display_data"
    },
    {
     "data": {
      "image/png": "[encoded data removed]",
      "text/plain": [
       "<Figure size 432x288 with 1 Axes>"
      ]
     },
     "metadata": {
      "needs_background": "light"
     },
     "output_type": "display_data"
    },
    {
     "data": {
      "image/png": "[encoded data removed]",
      "text/plain": [
       "<Figure size 432x288 with 1 Axes>"
      ]
     },
     "metadata": {
      "needs_background": "light"
     },
     "output_type": "display_data"
    }
   ],
   "source": [
    "# age, sex, trestbps, chol, cp, exang, fbs\n",
    "# sns.boxplot(x=heart.heart_disease, y=heart.sex)\n",
    "# plt.show()\n",
    "\n",
    "plt.clf()\n",
    "sns.boxplot(x=heart.heart_disease, y=heart.trestbps)\n",
    "plt.show()\n",
    "\n",
    "plt.clf()\n",
    "sns.boxplot(x=heart.heart_disease, y=heart.chol)\n",
    "plt.show()\n",
    "\n",
    "# plt.clf()\n",
    "# sns.boxplot(x=heart.heart_disease, y=heart.cp)\n",
    "# plt.show()\n",
    "\n",
    "plt.clf()\n",
    "sns.boxplot(x=heart.heart_disease, y=heart.exang)\n",
    "plt.show()\n",
    "\n",
    "plt.clf()\n",
    "sns.boxplot(x=heart.heart_disease, y=heart.fbs)\n",
    "plt.show()\n"
   ]
  },
  {
   "cell_type": "code",
   "execution_count": 28,
   "id": "af7a7185",
   "metadata": {},
   "outputs": [],
   "source": [
    "age_hd = heart.age[heart.heart_disease == 'presence']\n",
    "age_no_hd = heart.age[heart.heart_disease == 'absence']\n",
    "\n",
    "trestbps_hd = heart.trestbps[heart.heart_disease == 'presence']\n",
    "trestbps_no_hd = heart.trestbps[heart.heart_disease == 'absence']\n",
    "\n",
    "chol_hd = heart.chol[heart.heart_disease == 'presence']\n",
    "chol_no_hd = heart.chol[heart.heart_disease == 'absence']"
   ]
  },
  {
   "cell_type": "code",
   "execution_count": 32,
   "id": "9f95e386",
   "metadata": {},
   "outputs": [
    {
     "name": "stdout",
     "output_type": "stream",
     "text": [
      "The p-value for age is: 8.955636917529706e-05\n",
      "\n",
      "The p-value for resting blood pressure is: 0.008548268928594928\n",
      "\n",
      "The p-value for cholestoral is: 0.13914167020436527\n",
      "\n"
     ]
    }
   ],
   "source": [
    "age_ttest, age_pval = ttest_ind(age_hd, age_no_hd)\n",
    "print('The p-value for age is: ' + str(age_pval) + '\\n')\n",
    "\n",
    "trest_ttest, trest_pval = ttest_ind(trestbps_hd, trestbps_no_hd)\n",
    "print('The p-value for resting blood pressure is: ' + str(trest_pval) + '\\n')\n",
    "\n",
    "chol_ttest, chol_pval = ttest_ind(chol_hd, chol_no_hd)\n",
    "print('The p-value for cholestoral is: ' + str(chol_pval) + '\\n')\n"
   ]
  },
  {
   "cell_type": "markdown",
   "id": "4a516930",
   "metadata": {},
   "source": [
    "## Chest Pain and Max Heart Rate\n",
    "8. Next, let’s investigate the relationship between `thalach` (maximum heart rate achieved during exercise) and `cp` (the type of heart pain a person experiences). Create a set of side-by-side box plots of `thalach` for each chest pain type in the data. Make sure to use `plt.clf()` to clear the previous plots first!\n",
    "\n",
    "   Are there any chest pain types for which average thalach is significantly higher or lower (compared to other chest pain types)?"
   ]
  },
  {
   "cell_type": "code",
   "execution_count": 35,
   "id": "e2cf11fe",
   "metadata": {},
   "outputs": [
    {
     "data": {
      "image/png": "[encoded data removed]",
      "text/plain": [
       "<Figure size 432x288 with 1 Axes>"
      ]
     },
     "metadata": {
      "needs_background": "light"
     },
     "output_type": "display_data"
    }
   ],
   "source": [
    "plt.clf()\n",
    "sns.boxplot(x=heart.cp, y=heart.thalach)\n",
    "plt.show()"
   ]
  },
  {
   "cell_type": "markdown",
   "id": "905152cd",
   "metadata": {},
   "source": [
    "*Average `thalach` is much lower in people who are asymptomatic. The higher averages look to be in typical angina, and atypical angina.*"
   ]
  },
  {
   "cell_type": "markdown",
   "id": "5d656b91",
   "metadata": {},
   "source": [
    "9. To investigate this further, save the values of `thalach` for patients who experienced each type of chest pain as `thalach_typical`, `thalach_asymptom`, `thalach_nonangin`, and `thalach_atypical`, respectively."
   ]
  },
  {
   "cell_type": "code",
   "execution_count": 40,
   "id": "0f3d1e8a",
   "metadata": {},
   "outputs": [],
   "source": [
    "thalach_typical = heart.thalach[heart.cp == 'typical angina']\n",
    "thalach_asymptom = heart.thalach[heart.cp == 'asymptomatic']\n",
    "thalach_nonangin = heart.thalach[heart.cp == 'non-anginal pain']\n",
    "thalach_atypical = heart.thalach[heart.cp == 'atypical angina']"
   ]
  },
  {
   "cell_type": "markdown",
   "id": "8a1f078d",
   "metadata": {},
   "source": [
    "10. Run a single hypothesis test to address the following null and alternative hypotheses:\n",
    "\n",
    "    -    Null: People with typical angina, non-anginal pain, atypical angina, and asymptomatic people all have the same average thalach.\n",
    "    -    Alternative: People with typical angina, non-anginal pain, atypical angina, and asymptomatic people do not all have the same average thalach.\n",
    "\n",
    "    Save the resulting p-value as pval and print it out. Using a significance threshold of 0.05, is there at least one pair of chest pain categories for which people in those categories have significantly different thalach?\n",
    "\n",
    "*Use ANOVA. There is at least one pair of chest pain categories with significantly different thalach.* "
   ]
  },
  {
   "cell_type": "code",
   "execution_count": 43,
   "id": "e6f9242c",
   "metadata": {
    "scrolled": true
   },
   "outputs": [
    {
     "name": "stdout",
     "output_type": "stream",
     "text": [
      "The ANOVA p-value for thalach vs cp is: 1.9065505247705008e-10\n",
      "\n"
     ]
    }
   ],
   "source": [
    "fstat, pval = f_oneway(thalach_typical, thalach_asymptom, thalach_nonangin, thalach_atypical)\n",
    "print('The ANOVA p-value for thalach vs cp is: ' + str(pval) + '\\n')\n"
   ]
  },
  {
   "cell_type": "markdown",
   "id": "68d825a8",
   "metadata": {},
   "source": [
    "*I think asymptomatic plus any other category.*"
   ]
  },
  {
   "cell_type": "markdown",
   "id": "dd3e1e4c",
   "metadata": {},
   "source": [
    "11. If you completed the previous step correctly, you should have concluded that there is at least one pair of chest pain types (`cp`) for which people with those pain types have significantly different average max heart rates during exercise (`thalach`).\n",
    "\n",
    "    Run another hypothesis test to determine which of those pairs are significantly different. Use an overall type I error rate of 0.05 for all six comparisons.\n"
   ]
  },
  {
   "cell_type": "code",
   "execution_count": 46,
   "id": "ec52db84",
   "metadata": {},
   "outputs": [
    {
     "name": "stdout",
     "output_type": "stream",
     "text": [
      "           Multiple Comparison of Means - Tukey HSD, FWER=0.05           \n",
      "=========================================================================\n",
      "     group1           group2      meandiff p-adj   lower    upper  reject\n",
      "-------------------------------------------------------------------------\n",
      "    asymptomatic  atypical angina  21.7394  0.001  12.7439  30.735   True\n",
      "    asymptomatic non-anginal pain  14.7264  0.001    7.258 22.1948   True\n",
      "    asymptomatic   typical angina   15.276 0.0081   2.9702 27.5817   True\n",
      " atypical angina non-anginal pain   -7.013 0.2481 -16.7591   2.733  False\n",
      " atypical angina   typical angina  -6.4635 0.6069 -20.2707  7.3438  False\n",
      "non-anginal pain   typical angina   0.5495    0.9  -12.315 13.4141  False\n",
      "-------------------------------------------------------------------------\n"
     ]
    }
   ],
   "source": [
    "tukey_results = pairwise_tukeyhsd(heart.thalach, heart.cp, 0.05)\n",
    "print(tukey_results)"
   ]
  },
  {
   "cell_type": "markdown",
   "id": "2bbf0806",
   "metadata": {},
   "source": [
    "12. Finally, let’s investigate the relationship between the kind of chest pain a person experiences and whether or not they have heart disease. Create a contingency table of `cp` and `heart_disease` and save it as `Xtab`, then print it out."
   ]
  },
  {
   "cell_type": "code",
   "execution_count": 47,
   "id": "1929cfea",
   "metadata": {},
   "outputs": [
    {
     "name": "stdout",
     "output_type": "stream",
     "text": [
      "heart_disease     absence  presence\n",
      "cp                                 \n",
      "asymptomatic           39       105\n",
      "atypical angina        41         9\n",
      "non-anginal pain       68        18\n",
      "typical angina         16         7\n"
     ]
    }
   ],
   "source": [
    "Xtab = pd.crosstab(heart.cp, heart.heart_disease)\n",
    "print(Xtab)"
   ]
  },
  {
   "cell_type": "markdown",
   "id": "608607b5",
   "metadata": {},
   "source": [
    "*From codecademy: Based on this table, it seems like people who are diagnosed with heart disease tend to be asymptomatic, while people with who are not diagnosed with heart disease tend to have different kinds of chest pain. This helps explain our findings on the relationship between chest pain and max heart rate above. However, we’d have to do more research to try to understand why this is the case. It seems a little counter-intuitive!*"
   ]
  },
  {
   "cell_type": "markdown",
   "id": "84f9f856",
   "metadata": {},
   "source": [
    "13. Run a hypothesis test for the following null and alternative hypotheses:\n",
    "\n",
    "-    Null: There is NOT an association between chest pain type and whether or not someone is diagnosed with heart disease.\n",
    "-    Alternative: There is an association between chest pain type and whether or not someone is diagnosed with heart disease.\n",
    "\n",
    "Save the p-value as pval and print it out. Using a significance threshold of 0.05, is there a significant association between chest pain type and whether or not someone is diagnosed with heart disease?"
   ]
  },
  {
   "cell_type": "code",
   "execution_count": 50,
   "id": "2e6b49b8",
   "metadata": {},
   "outputs": [
    {
     "name": "stdout",
     "output_type": "stream",
     "text": [
      "1.2517106007837527e-17\n"
     ]
    }
   ],
   "source": [
    "chi2, pval, dof, expected = chi2_contingency(Xtab)\n",
    "print(pval)"
   ]
  },
  {
   "cell_type": "markdown",
   "id": "4d7fdda4",
   "metadata": {},
   "source": [
    "*Yes, because this is less than 0.05, so there is a significant association between the variables.*"
   ]
  },
  {
   "cell_type": "markdown",
   "id": "fec93fb1",
   "metadata": {},
   "source": [
    "14. Congratulations! You’ve used a sample of data to understand how health related outcomes are associated with heart disease. Now that you’ve gotten your feet wet, there are a number of additional variables in this dataset that we haven’t looked at yet! If you want additional practice, use this space to continue your investigation. What other variables might be predictive of heart disease? Can you identify which hypothesis test to use for each variable?\n",
    "\n",
    "    As a reminder, the variables in this data are:\n",
    "\n",
    "    -    `age`: age in years\n",
    "    -    `sex`: sex assigned at birth; `'male'` or `'female'`\n",
    "    -    `trestbps`: resting blood pressure in mm Hg\n",
    "    -    `chol`: serum cholesterol in mg/dl\n",
    "    -    `cp`: chest pain type (`'typical angina'`, `'atypical angina'`, `'non-anginal pain'`, or `'asymptomatic'`)\n",
    "    -    `exang`: whether the patient experiences exercise-induced angina (`1`: yes; `0`: no)\n",
    "    -    `fbs`: whether the patient’s fasting blood sugar is >120 mg/dl (`1`: yes; `0`: no)\n",
    "    -    `thalach`: maximum heart rate achieved in exercise test\n",
    "    -    `heart_disease`: whether the patient is found to have heart disease (`'presence'`: diagnosed with heart disease; `'absence'`: no heart disease)"
   ]
  },
  {
   "cell_type": "markdown",
   "id": "64c23781",
   "metadata": {},
   "source": [
    "Is there an association between male and female and diagnosed with heart disease?\n",
    "\n",
    "This would use a chi-square test.\n",
    "\n",
    "- null hypothesis: there is no association between the variables (eg. males, females are all equally likely to have heart disease, so gender and heart disease are not associated)."
   ]
  },
  {
   "cell_type": "code",
   "execution_count": 51,
   "id": "6d6a360f",
   "metadata": {},
   "outputs": [
    {
     "name": "stdout",
     "output_type": "stream",
     "text": [
      "heart_disease  absence  presence\n",
      "sex                             \n",
      "female              72        25\n",
      "male                92       114\n"
     ]
    }
   ],
   "source": [
    "table = pd.crosstab(heart.sex, heart.heart_disease)\n",
    "print(table)"
   ]
  },
  {
   "cell_type": "code",
   "execution_count": 52,
   "id": "472e2146",
   "metadata": {},
   "outputs": [
    {
     "name": "stdout",
     "output_type": "stream",
     "text": [
      "2.666712348180942e-06\n"
     ]
    }
   ],
   "source": [
    "chi2, pval, dof, expected = chi2_contingency(table)\n",
    "print(pval)"
   ]
  },
  {
   "cell_type": "markdown",
   "id": "5e555df6",
   "metadata": {},
   "source": [
    "*The p-value is significant so we can reject the null hypothesis and assume there is an association between sex and heart disease.*"
   ]
  },
  {
   "cell_type": "code",
   "execution_count": null,
   "id": "3535940d",
   "metadata": {},
   "outputs": [],
   "source": []
  }
 ],
 "metadata": {
  "kernelspec": {
   "display_name": "Python 3 (ipykernel)",
   "language": "python",
   "name": "python3"
  },
  "language_info": {
   "codemirror_mode": {
    "name": "ipython",
    "version": 3
   },
   "file_extension": ".py",
   "mimetype": "text/x-python",
   "name": "python",
   "nbconvert_exporter": "python",
   "pygments_lexer": "ipython3",
   "version": "3.9.7"
  }
 },
 "nbformat": 4,
 "nbformat_minor": 5
}
